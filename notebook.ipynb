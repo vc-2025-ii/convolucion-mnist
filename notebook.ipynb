{
 "cells": [
  {
   "cell_type": "markdown",
   "metadata": {},
   "source": [
    "# Modelo basado en capas convolucionales para clasificación de dígitos"
   ]
  },
  {
   "cell_type": "markdown",
   "metadata": {},
   "source": [
    " Modelo preentrenado (formato .h5):"
   ]
  },
  {
   "cell_type": "code",
   "execution_count": null,
   "metadata": {},
   "outputs": [],
   "source": [
    "import requests\n",
    "\n",
    "url = \"https://huggingface.co/spaces/ayaanzaveri/mnist/resolve/main/mnist-model.h5\"\n",
    "r = requests.get(url)\n",
    "with open(\"mnist_model.h5\", \"wb\") as f:\n",
    "    f.write(r.content)\n",
    "\n",
    "print(\"Modelo guardado correctamente.\")"
   ]
  },
  {
   "cell_type": "markdown",
   "metadata": {},
   "source": [
    "Usar el modelo descargado"
   ]
  },
  {
   "cell_type": "code",
   "execution_count": null,
   "metadata": {},
   "outputs": [],
   "source": [
    "from tensorflow.keras.models import load_model\n",
    "import tensorflow as tf\n",
    "import numpy as np\n",
    "import matplotlib.pyplot as plt\n",
    "\n",
    "# Cargar datos de prueba\n",
    "(_, _), (x_test, y_test) = tf.keras.datasets.mnist.load_data()\n",
    "x_test = x_test.reshape(-1, 28, 28, 1).astype(\"float32\") / 255.0\n",
    "\n",
    "# Cargar el modelo preentrenado\n",
    "model = load_model(\"mnist_model.h5\")\n",
    "\n",
    "# Carga el modelo con las metricas correctas\n",
    "\n",
    "model.compile(\n",
    "    optimizer='adam',\n",
    "    loss='sparse_categorical_crossentropy',\n",
    "    metrics=['accuracy']\n",
    "    )\n",
    "\n",
    "# Evaluar el modelo\n",
    "loss, accuracy = model.evaluate(x_test, y_test)\n",
    "print(\"Precisión en el conjunto de prueba:\", accuracy)"
   ]
  },
  {
   "cell_type": "markdown",
   "metadata": {},
   "source": [
    "Realizar una predicción"
   ]
  },
  {
   "cell_type": "code",
   "execution_count": null,
   "metadata": {},
   "outputs": [],
   "source": [
    "\n",
    "idx = 0  # Cambia este índice para probar otras imágenes\n",
    "img = x_test[idx]\n",
    "plt.imshow(img.squeeze(), cmap='gray')\n",
    "plt.title(f\"Etiqueta real: {y_test[idx]}\")\n",
    "plt.axis('off')\n",
    "plt.show()\n",
    "\n",
    "prediction = model.predict(np.expand_dims(img, axis=0))\n",
    "print(\"Predicción del modelo:\", np.argmax(prediction))"
   ]
  },
  {
   "cell_type": "markdown",
   "metadata": {},
   "source": [
    "# Para hacer\n",
    "\n",
    "1. Mostrar los valores y visualizar al menos 10 kernels del modelo pre-entrenado\n",
    "2. Mostrar las salidas obtenidas al aplicar la convolución de una imagen con los kernels del ejercicio 1.\n",
    "3. Calcular las predicciones de al menos 10 imágenes propias (adjuntar evidencia del proceso de adquisición de imágenes). Aplicar y explicar el tratamiento de imágenes necesario para adecuar los datos de entrada al modelo.\n",
    "4. Repetir el ejercicio 2 con al menos una de las imágenes del ejercicio 3."
   ]
  }
 ],
 "metadata": {
  "kernelspec": {
   "display_name": "tf_env",
   "language": "python",
   "name": "python3"
  },
  "language_info": {
   "codemirror_mode": {
    "name": "ipython",
    "version": 3
   },
   "file_extension": ".py",
   "mimetype": "text/x-python",
   "name": "python",
   "nbconvert_exporter": "python",
   "pygments_lexer": "ipython3",
   "version": "3.10.16"
  }
 },
 "nbformat": 4,
 "nbformat_minor": 2
}
